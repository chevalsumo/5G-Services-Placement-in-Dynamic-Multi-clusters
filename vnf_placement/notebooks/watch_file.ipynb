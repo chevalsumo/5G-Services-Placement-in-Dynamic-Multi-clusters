{
 "cells": [
  {
   "cell_type": "code",
   "execution_count": 1,
   "metadata": {},
   "outputs": [],
   "source": [
    "from watchdog.observers import Observer\n",
    "from watchdog.events import FileSystemEventHandler"
   ]
  },
  {
   "cell_type": "code",
   "execution_count": 1,
   "metadata": {},
   "outputs": [],
   "source": [
    "import os \n",
    "\n",
    "os.environ[\"no_proxy\"] = 'localhost,127.0.0.1'"
   ]
  },
  {
   "cell_type": "code",
   "execution_count": 3,
   "metadata": {},
   "outputs": [],
   "source": [
    "from mlflow.tracking import MlflowClient\n",
    "import mlflow \n",
    "\n",
    "client = MlflowClient(tracking_uri= \"http://127.0.0.1:5005\")"
   ]
  },
  {
   "cell_type": "code",
   "execution_count": 1,
   "metadata": {},
   "outputs": [],
   "source": [
    "import mlflow "
   ]
  },
  {
   "cell_type": "code",
   "execution_count": 11,
   "metadata": {},
   "outputs": [],
   "source": [
    "class PPOWrapper_(mlflow.pyfunc.PythonModel):\n",
    "    \n",
    "    def load_context(self, context):\n",
    "        from stable_baselines3 import PPO \n",
    "        print(\"hna\")\n",
    "        self.ppo_model = PPO.load(context.artifacts[\"salim\"])\n",
    "\n",
    "    def predict(self, context, model_input):\n",
    "        return int(self.ppo_model.predict(model_input, deterministic=False)[0])"
   ]
  },
  {
   "cell_type": "code",
   "execution_count": 13,
   "metadata": {},
   "outputs": [
    {
     "ename": "ModuleNotFoundError",
     "evalue": "No module named 'vnf_placement'",
     "output_type": "error",
     "traceback": [
      "\u001b[0;31m---------------------------------------------------------------------------\u001b[0m",
      "\u001b[0;31mModuleNotFoundError\u001b[0m                       Traceback (most recent call last)",
      "Cell \u001b[0;32mIn[13], line 1\u001b[0m\n\u001b[0;32m----> 1\u001b[0m test \u001b[39m=\u001b[39m mlflow\u001b[39m.\u001b[39;49mpyfunc\u001b[39m.\u001b[39;49mload_model(\u001b[39m\"\u001b[39;49m\u001b[39m/home/ryad/rl-multi-domain-for-multi-placement/vnf_placement/PlacementModule/containerized_mlflow/mlflow/mlruns/mlartifacts/0/8cff34a02ab3409cb42f566d1e4a7a19/artifacts/test7/\u001b[39;49m\u001b[39m\"\u001b[39;49m)\n",
      "File \u001b[0;32m~/rl-multi-domain-for-multi-placement/venv/lib/python3.10/site-packages/mlflow/pyfunc/__init__.py:596\u001b[0m, in \u001b[0;36mload_model\u001b[0;34m(model_uri, suppress_warnings, dst_path)\u001b[0m\n\u001b[1;32m    594\u001b[0m _add_code_from_conf_to_system_path(local_path, conf, code_key\u001b[39m=\u001b[39mCODE)\n\u001b[1;32m    595\u001b[0m data_path \u001b[39m=\u001b[39m os\u001b[39m.\u001b[39mpath\u001b[39m.\u001b[39mjoin(local_path, conf[DATA]) \u001b[39mif\u001b[39;00m (DATA \u001b[39min\u001b[39;00m conf) \u001b[39melse\u001b[39;00m local_path\n\u001b[0;32m--> 596\u001b[0m model_impl \u001b[39m=\u001b[39m importlib\u001b[39m.\u001b[39;49mimport_module(conf[MAIN])\u001b[39m.\u001b[39;49m_load_pyfunc(data_path)\n\u001b[1;32m    597\u001b[0m predict_fn \u001b[39m=\u001b[39m conf\u001b[39m.\u001b[39mget(\u001b[39m\"\u001b[39m\u001b[39mpredict_fn\u001b[39m\u001b[39m\"\u001b[39m, \u001b[39m\"\u001b[39m\u001b[39mpredict\u001b[39m\u001b[39m\"\u001b[39m)\n\u001b[1;32m    598\u001b[0m \u001b[39mreturn\u001b[39;00m PyFuncModel(model_meta\u001b[39m=\u001b[39mmodel_meta, model_impl\u001b[39m=\u001b[39mmodel_impl, predict_fn\u001b[39m=\u001b[39mpredict_fn)\n",
      "File \u001b[0;32m~/rl-multi-domain-for-multi-placement/venv/lib/python3.10/site-packages/mlflow/pyfunc/model.py:291\u001b[0m, in \u001b[0;36m_load_pyfunc\u001b[0;34m(model_path)\u001b[0m\n\u001b[1;32m    289\u001b[0m     \u001b[39mraise\u001b[39;00m MlflowException(\u001b[39m\"\u001b[39m\u001b[39mPython model path was not specified in the model configuration\u001b[39m\u001b[39m\"\u001b[39m)\n\u001b[1;32m    290\u001b[0m \u001b[39mwith\u001b[39;00m \u001b[39mopen\u001b[39m(os\u001b[39m.\u001b[39mpath\u001b[39m.\u001b[39mjoin(model_path, python_model_subpath), \u001b[39m\"\u001b[39m\u001b[39mrb\u001b[39m\u001b[39m\"\u001b[39m) \u001b[39mas\u001b[39;00m f:\n\u001b[0;32m--> 291\u001b[0m     python_model \u001b[39m=\u001b[39m cloudpickle\u001b[39m.\u001b[39;49mload(f)\n\u001b[1;32m    293\u001b[0m artifacts \u001b[39m=\u001b[39m {}\n\u001b[1;32m    294\u001b[0m \u001b[39mfor\u001b[39;00m saved_artifact_name, saved_artifact_info \u001b[39min\u001b[39;00m pyfunc_config\u001b[39m.\u001b[39mget(\n\u001b[1;32m    295\u001b[0m     CONFIG_KEY_ARTIFACTS, {}\n\u001b[1;32m    296\u001b[0m )\u001b[39m.\u001b[39mitems():\n",
      "\u001b[0;31mModuleNotFoundError\u001b[0m: No module named 'vnf_placement'"
     ]
    }
   ],
   "source": [
    "test = mlflow.pyfunc.load_model(\"/home/ryad/rl-multi-domain-for-multi-placement/vnf_placement/PlacementModule/containerized_mlflow/mlflow/mlruns/mlartifacts/0/8cff34a02ab3409cb42f566d1e4a7a19/artifacts/test7/\")"
   ]
  },
  {
   "cell_type": "code",
   "execution_count": 17,
   "metadata": {},
   "outputs": [
    {
     "name": "stderr",
     "output_type": "stream",
     "text": [
      "/tmp/ipykernel_771328/1671723136.py:1: FutureWarning: ``mlflow.pyfunc.load_pyfunc`` is deprecated since 1.0. This method will be removed in a future release. Use ``mlflow.pyfunc.load_model`` instead.\n",
      "  mlflow.pyfunc.load_pyfunc(\"/home/ryad/rl-multi-domain-for-multi-placement/vnf_placement/PlacementModule/containerized_mlflow/mlflow/mlruns/mlartifacts/0/8cff34a02ab3409cb42f566d1e4a7a19/artifacts/test7/\")\n"
     ]
    },
    {
     "ename": "ModuleNotFoundError",
     "evalue": "No module named 'vnf_placement'",
     "output_type": "error",
     "traceback": [
      "\u001b[0;31m---------------------------------------------------------------------------\u001b[0m",
      "\u001b[0;31mModuleNotFoundError\u001b[0m                       Traceback (most recent call last)",
      "Cell \u001b[0;32mIn[17], line 1\u001b[0m\n\u001b[0;32m----> 1\u001b[0m mlflow\u001b[39m.\u001b[39;49mpyfunc\u001b[39m.\u001b[39;49mload_pyfunc(\u001b[39m\"\u001b[39;49m\u001b[39m/home/ryad/rl-multi-domain-for-multi-placement/vnf_placement/PlacementModule/containerized_mlflow/mlflow/mlruns/mlartifacts/0/8cff34a02ab3409cb42f566d1e4a7a19/artifacts/test7/\u001b[39;49m\u001b[39m\"\u001b[39;49m)\n",
      "File \u001b[0;32m~/rl-multi-domain-for-multi-placement/venv/lib/python3.10/site-packages/mlflow/utils/annotations.py:95\u001b[0m, in \u001b[0;36mdeprecated.<locals>.deprecated_decorator.<locals>.deprecated_func\u001b[0;34m(*args, **kwargs)\u001b[0m\n\u001b[1;32m     92\u001b[0m \u001b[39m@wraps\u001b[39m(func)\n\u001b[1;32m     93\u001b[0m \u001b[39mdef\u001b[39;00m \u001b[39mdeprecated_func\u001b[39m(\u001b[39m*\u001b[39margs, \u001b[39m*\u001b[39m\u001b[39m*\u001b[39mkwargs):\n\u001b[1;32m     94\u001b[0m     warnings\u001b[39m.\u001b[39mwarn(notice, category\u001b[39m=\u001b[39m\u001b[39mFutureWarning\u001b[39;00m, stacklevel\u001b[39m=\u001b[39m\u001b[39m2\u001b[39m)\n\u001b[0;32m---> 95\u001b[0m     \u001b[39mreturn\u001b[39;00m func(\u001b[39m*\u001b[39;49margs, \u001b[39m*\u001b[39;49m\u001b[39m*\u001b[39;49mkwargs)\n",
      "File \u001b[0;32m~/rl-multi-domain-for-multi-placement/venv/lib/python3.10/site-packages/mlflow/pyfunc/__init__.py:786\u001b[0m, in \u001b[0;36mload_pyfunc\u001b[0;34m(model_uri, suppress_warnings)\u001b[0m\n\u001b[1;32m    763\u001b[0m \u001b[39m@deprecated\u001b[39m(\u001b[39m\"\u001b[39m\u001b[39mmlflow.pyfunc.load_model\u001b[39m\u001b[39m\"\u001b[39m, \u001b[39m1.0\u001b[39m)\n\u001b[1;32m    764\u001b[0m \u001b[39mdef\u001b[39;00m \u001b[39mload_pyfunc\u001b[39m(model_uri, suppress_warnings\u001b[39m=\u001b[39m\u001b[39mFalse\u001b[39;00m):\n\u001b[1;32m    765\u001b[0m \u001b[39m    \u001b[39m\u001b[39m\"\"\"\u001b[39;00m\n\u001b[1;32m    766\u001b[0m \u001b[39m    Load a model stored in Python function format.\u001b[39;00m\n\u001b[1;32m    767\u001b[0m \n\u001b[0;32m   (...)\u001b[0m\n\u001b[1;32m    784\u001b[0m \u001b[39m                              messages will be emitted.\u001b[39;00m\n\u001b[1;32m    785\u001b[0m \u001b[39m    \"\"\"\u001b[39;00m\n\u001b[0;32m--> 786\u001b[0m     \u001b[39mreturn\u001b[39;00m load_model(model_uri, suppress_warnings)\n",
      "File \u001b[0;32m~/rl-multi-domain-for-multi-placement/venv/lib/python3.10/site-packages/mlflow/pyfunc/__init__.py:596\u001b[0m, in \u001b[0;36mload_model\u001b[0;34m(model_uri, suppress_warnings, dst_path)\u001b[0m\n\u001b[1;32m    594\u001b[0m _add_code_from_conf_to_system_path(local_path, conf, code_key\u001b[39m=\u001b[39mCODE)\n\u001b[1;32m    595\u001b[0m data_path \u001b[39m=\u001b[39m os\u001b[39m.\u001b[39mpath\u001b[39m.\u001b[39mjoin(local_path, conf[DATA]) \u001b[39mif\u001b[39;00m (DATA \u001b[39min\u001b[39;00m conf) \u001b[39melse\u001b[39;00m local_path\n\u001b[0;32m--> 596\u001b[0m model_impl \u001b[39m=\u001b[39m importlib\u001b[39m.\u001b[39;49mimport_module(conf[MAIN])\u001b[39m.\u001b[39;49m_load_pyfunc(data_path)\n\u001b[1;32m    597\u001b[0m predict_fn \u001b[39m=\u001b[39m conf\u001b[39m.\u001b[39mget(\u001b[39m\"\u001b[39m\u001b[39mpredict_fn\u001b[39m\u001b[39m\"\u001b[39m, \u001b[39m\"\u001b[39m\u001b[39mpredict\u001b[39m\u001b[39m\"\u001b[39m)\n\u001b[1;32m    598\u001b[0m \u001b[39mreturn\u001b[39;00m PyFuncModel(model_meta\u001b[39m=\u001b[39mmodel_meta, model_impl\u001b[39m=\u001b[39mmodel_impl, predict_fn\u001b[39m=\u001b[39mpredict_fn)\n",
      "File \u001b[0;32m~/rl-multi-domain-for-multi-placement/venv/lib/python3.10/site-packages/mlflow/pyfunc/model.py:291\u001b[0m, in \u001b[0;36m_load_pyfunc\u001b[0;34m(model_path)\u001b[0m\n\u001b[1;32m    289\u001b[0m     \u001b[39mraise\u001b[39;00m MlflowException(\u001b[39m\"\u001b[39m\u001b[39mPython model path was not specified in the model configuration\u001b[39m\u001b[39m\"\u001b[39m)\n\u001b[1;32m    290\u001b[0m \u001b[39mwith\u001b[39;00m \u001b[39mopen\u001b[39m(os\u001b[39m.\u001b[39mpath\u001b[39m.\u001b[39mjoin(model_path, python_model_subpath), \u001b[39m\"\u001b[39m\u001b[39mrb\u001b[39m\u001b[39m\"\u001b[39m) \u001b[39mas\u001b[39;00m f:\n\u001b[0;32m--> 291\u001b[0m     python_model \u001b[39m=\u001b[39m cloudpickle\u001b[39m.\u001b[39;49mload(f)\n\u001b[1;32m    293\u001b[0m artifacts \u001b[39m=\u001b[39m {}\n\u001b[1;32m    294\u001b[0m \u001b[39mfor\u001b[39;00m saved_artifact_name, saved_artifact_info \u001b[39min\u001b[39;00m pyfunc_config\u001b[39m.\u001b[39mget(\n\u001b[1;32m    295\u001b[0m     CONFIG_KEY_ARTIFACTS, {}\n\u001b[1;32m    296\u001b[0m )\u001b[39m.\u001b[39mitems():\n",
      "\u001b[0;31mModuleNotFoundError\u001b[0m: No module named 'vnf_placement'"
     ]
    }
   ],
   "source": [
    "mlflow.pyfunc.load_pyfunc(\"/home/ryad/rl-multi-domain-for-multi-placement/vnf_placement/PlacementModule/containerized_mlflow/mlflow/mlruns/mlartifacts/0/8cff34a02ab3409cb42f566d1e4a7a19/artifacts/test7/\")"
   ]
  },
  {
   "cell_type": "code",
   "execution_count": 15,
   "metadata": {},
   "outputs": [],
   "source": [
    "import cloudpickle"
   ]
  },
  {
   "cell_type": "code",
   "execution_count": 16,
   "metadata": {},
   "outputs": [
    {
     "ename": "TypeError",
     "evalue": "file must have 'read' and 'readline' attributes",
     "output_type": "error",
     "traceback": [
      "\u001b[0;31m---------------------------------------------------------------------------\u001b[0m",
      "\u001b[0;31mTypeError\u001b[0m                                 Traceback (most recent call last)",
      "Cell \u001b[0;32mIn[16], line 1\u001b[0m\n\u001b[0;32m----> 1\u001b[0m cloudpickle\u001b[39m.\u001b[39;49mload(\u001b[39m\"\u001b[39;49m\u001b[39m/home/ryad/rl-multi-domain-for-multi-placement/vnf_placement/PlacementModule/containerized_mlflow/mlflow/mlruns/mlartifacts/0/8cff34a02ab3409cb42f566d1e4a7a19/artifacts/test7/python_model.pkl\u001b[39;49m\u001b[39m\"\u001b[39;49m)\n",
      "\u001b[0;31mTypeError\u001b[0m: file must have 'read' and 'readline' attributes"
     ]
    }
   ],
   "source": [
    "cloudpickle.load(\"/home/ryad/rl-multi-domain-for-multi-placement/vnf_placement/PlacementModule/containerized_mlflow/mlflow/mlruns/mlartifacts/0/8cff34a02ab3409cb42f566d1e4a7a19/artifacts/test7/python_model.pkl\")"
   ]
  },
  {
   "cell_type": "code",
   "execution_count": 3,
   "metadata": {},
   "outputs": [],
   "source": [
    "from mlflow.tracking import MlflowClient\n",
    "import mlflow \n",
    "from urllib.parse import urlparse\n",
    "import time\n",
    "DEBOUNCE_TIME = 1.0\n",
    "\n",
    "class DebouncedEventHandler(FileSystemEventHandler):\n",
    "    \n",
    "    def __init__(self, mlflow_url, model_name):\n",
    "        super().__init__()\n",
    "        self.last_event_time = 0\n",
    "        self._mlflow_url =  mlflow_url\n",
    "        self._model_name = model_name\n",
    "        self._current_prod_file = self.get_prod_path()\n",
    "        self.observer = Observer()\n",
    "        self.start_observer()\n",
    "    def on_modified(self, event):\n",
    "        current_time = time.time()\n",
    "        if current_time - self.last_event_time > DEBOUNCE_TIME:\n",
    "            self.last_event_time = current_time\n",
    "            self.handle_modified_event(event)\n",
    "\n",
    "    def handle_modified_event(self, event):\n",
    "        if event.is_directory:\n",
    "            return\n",
    "        if self._current_prod_file != self.get_prod_path():\n",
    "            self.stop_observer()\n",
    "            self.start_observer()          \n",
    "        print(f\"Le fichier {event.src_path} a été modifié\")\n",
    "\n",
    "    def start_observer(self):\n",
    "        print(self._current_prod_file)\n",
    "        self.observer.schedule(self, self._current_prod_file, recursive=False)\n",
    "        self.observer.start()\n",
    "    def stop_observer(self):\n",
    "        self.observer.stop()\n",
    "        self.observer.join()\n",
    "        #print(prod_v)\n",
    "    def get_prod_path(self):\n",
    "        \n",
    "        client = MlflowClient(tracking_uri= self._mlflow_url)\n",
    "        versions = client.get_latest_versions(name= self._model_name)\n",
    "\n",
    "        prod_v = None      \n",
    "        for version in versions : \n",
    "            if version.current_stage == \"Production\" :\n",
    "                prod_v = version \n",
    "        return f\"{urlparse(prod_v.source).path.split('mlruns')[0]}mlruns/models/{self._model_name}/version-{prod_v.version}/meta.yaml\"\n",
    "    \n",
    "        #return \"/home/ryad/rl-multi-domain-for-multi-placement/vnf_placement/notebooks/mlruns/models/PPO_Model/version-4/meta.yaml\""
   ]
  },
  {
   "cell_type": "code",
   "execution_count": 7,
   "metadata": {},
   "outputs": [
    {
     "ename": "MlflowException",
     "evalue": "API request to http://127.0.0.1:5000/api/2.0/mlflow/registered-models/get-latest-versions failed with exception HTTPConnectionPool(host='127.0.0.1', port=5000): Max retries exceeded with url: /api/2.0/mlflow/registered-models/get-latest-versions (Caused by ResponseError('too many 500 error responses'))",
     "output_type": "error",
     "traceback": [
      "\u001b[0;31m---------------------------------------------------------------------------\u001b[0m",
      "\u001b[0;31mMaxRetryError\u001b[0m                             Traceback (most recent call last)",
      "File \u001b[0;32m~/rl-multi-domain-for-multi-placement/venv/lib/python3.10/site-packages/requests/adapters.py:489\u001b[0m, in \u001b[0;36mHTTPAdapter.send\u001b[0;34m(self, request, stream, timeout, verify, cert, proxies)\u001b[0m\n\u001b[1;32m    488\u001b[0m \u001b[39mif\u001b[39;00m \u001b[39mnot\u001b[39;00m chunked:\n\u001b[0;32m--> 489\u001b[0m     resp \u001b[39m=\u001b[39m conn\u001b[39m.\u001b[39;49murlopen(\n\u001b[1;32m    490\u001b[0m         method\u001b[39m=\u001b[39;49mrequest\u001b[39m.\u001b[39;49mmethod,\n\u001b[1;32m    491\u001b[0m         url\u001b[39m=\u001b[39;49murl,\n\u001b[1;32m    492\u001b[0m         body\u001b[39m=\u001b[39;49mrequest\u001b[39m.\u001b[39;49mbody,\n\u001b[1;32m    493\u001b[0m         headers\u001b[39m=\u001b[39;49mrequest\u001b[39m.\u001b[39;49mheaders,\n\u001b[1;32m    494\u001b[0m         redirect\u001b[39m=\u001b[39;49m\u001b[39mFalse\u001b[39;49;00m,\n\u001b[1;32m    495\u001b[0m         assert_same_host\u001b[39m=\u001b[39;49m\u001b[39mFalse\u001b[39;49;00m,\n\u001b[1;32m    496\u001b[0m         preload_content\u001b[39m=\u001b[39;49m\u001b[39mFalse\u001b[39;49;00m,\n\u001b[1;32m    497\u001b[0m         decode_content\u001b[39m=\u001b[39;49m\u001b[39mFalse\u001b[39;49;00m,\n\u001b[1;32m    498\u001b[0m         retries\u001b[39m=\u001b[39;49m\u001b[39mself\u001b[39;49m\u001b[39m.\u001b[39;49mmax_retries,\n\u001b[1;32m    499\u001b[0m         timeout\u001b[39m=\u001b[39;49mtimeout,\n\u001b[1;32m    500\u001b[0m     )\n\u001b[1;32m    502\u001b[0m \u001b[39m# Send the request.\u001b[39;00m\n\u001b[1;32m    503\u001b[0m \u001b[39melse\u001b[39;00m:\n",
      "File \u001b[0;32m~/rl-multi-domain-for-multi-placement/venv/lib/python3.10/site-packages/urllib3/connectionpool.py:878\u001b[0m, in \u001b[0;36mHTTPConnectionPool.urlopen\u001b[0;34m(self, method, url, body, headers, retries, redirect, assert_same_host, timeout, pool_timeout, release_conn, chunked, body_pos, **response_kw)\u001b[0m\n\u001b[1;32m    877\u001b[0m     log\u001b[39m.\u001b[39mdebug(\u001b[39m\"\u001b[39m\u001b[39mRetry: \u001b[39m\u001b[39m%s\u001b[39;00m\u001b[39m\"\u001b[39m, url)\n\u001b[0;32m--> 878\u001b[0m     \u001b[39mreturn\u001b[39;00m \u001b[39mself\u001b[39;49m\u001b[39m.\u001b[39;49murlopen(\n\u001b[1;32m    879\u001b[0m         method,\n\u001b[1;32m    880\u001b[0m         url,\n\u001b[1;32m    881\u001b[0m         body,\n\u001b[1;32m    882\u001b[0m         headers,\n\u001b[1;32m    883\u001b[0m         retries\u001b[39m=\u001b[39;49mretries,\n\u001b[1;32m    884\u001b[0m         redirect\u001b[39m=\u001b[39;49mredirect,\n\u001b[1;32m    885\u001b[0m         assert_same_host\u001b[39m=\u001b[39;49massert_same_host,\n\u001b[1;32m    886\u001b[0m         timeout\u001b[39m=\u001b[39;49mtimeout,\n\u001b[1;32m    887\u001b[0m         pool_timeout\u001b[39m=\u001b[39;49mpool_timeout,\n\u001b[1;32m    888\u001b[0m         release_conn\u001b[39m=\u001b[39;49mrelease_conn,\n\u001b[1;32m    889\u001b[0m         chunked\u001b[39m=\u001b[39;49mchunked,\n\u001b[1;32m    890\u001b[0m         body_pos\u001b[39m=\u001b[39;49mbody_pos,\n\u001b[1;32m    891\u001b[0m         \u001b[39m*\u001b[39;49m\u001b[39m*\u001b[39;49mresponse_kw\n\u001b[1;32m    892\u001b[0m     )\n\u001b[1;32m    894\u001b[0m \u001b[39mreturn\u001b[39;00m response\n",
      "File \u001b[0;32m~/rl-multi-domain-for-multi-placement/venv/lib/python3.10/site-packages/urllib3/connectionpool.py:878\u001b[0m, in \u001b[0;36mHTTPConnectionPool.urlopen\u001b[0;34m(self, method, url, body, headers, retries, redirect, assert_same_host, timeout, pool_timeout, release_conn, chunked, body_pos, **response_kw)\u001b[0m\n\u001b[1;32m    877\u001b[0m     log\u001b[39m.\u001b[39mdebug(\u001b[39m\"\u001b[39m\u001b[39mRetry: \u001b[39m\u001b[39m%s\u001b[39;00m\u001b[39m\"\u001b[39m, url)\n\u001b[0;32m--> 878\u001b[0m     \u001b[39mreturn\u001b[39;00m \u001b[39mself\u001b[39;49m\u001b[39m.\u001b[39;49murlopen(\n\u001b[1;32m    879\u001b[0m         method,\n\u001b[1;32m    880\u001b[0m         url,\n\u001b[1;32m    881\u001b[0m         body,\n\u001b[1;32m    882\u001b[0m         headers,\n\u001b[1;32m    883\u001b[0m         retries\u001b[39m=\u001b[39;49mretries,\n\u001b[1;32m    884\u001b[0m         redirect\u001b[39m=\u001b[39;49mredirect,\n\u001b[1;32m    885\u001b[0m         assert_same_host\u001b[39m=\u001b[39;49massert_same_host,\n\u001b[1;32m    886\u001b[0m         timeout\u001b[39m=\u001b[39;49mtimeout,\n\u001b[1;32m    887\u001b[0m         pool_timeout\u001b[39m=\u001b[39;49mpool_timeout,\n\u001b[1;32m    888\u001b[0m         release_conn\u001b[39m=\u001b[39;49mrelease_conn,\n\u001b[1;32m    889\u001b[0m         chunked\u001b[39m=\u001b[39;49mchunked,\n\u001b[1;32m    890\u001b[0m         body_pos\u001b[39m=\u001b[39;49mbody_pos,\n\u001b[1;32m    891\u001b[0m         \u001b[39m*\u001b[39;49m\u001b[39m*\u001b[39;49mresponse_kw\n\u001b[1;32m    892\u001b[0m     )\n\u001b[1;32m    894\u001b[0m \u001b[39mreturn\u001b[39;00m response\n",
      "    \u001b[0;31m[... skipping similar frames: HTTPConnectionPool.urlopen at line 878 (2 times)]\u001b[0m\n",
      "File \u001b[0;32m~/rl-multi-domain-for-multi-placement/venv/lib/python3.10/site-packages/urllib3/connectionpool.py:878\u001b[0m, in \u001b[0;36mHTTPConnectionPool.urlopen\u001b[0;34m(self, method, url, body, headers, retries, redirect, assert_same_host, timeout, pool_timeout, release_conn, chunked, body_pos, **response_kw)\u001b[0m\n\u001b[1;32m    877\u001b[0m     log\u001b[39m.\u001b[39mdebug(\u001b[39m\"\u001b[39m\u001b[39mRetry: \u001b[39m\u001b[39m%s\u001b[39;00m\u001b[39m\"\u001b[39m, url)\n\u001b[0;32m--> 878\u001b[0m     \u001b[39mreturn\u001b[39;00m \u001b[39mself\u001b[39;49m\u001b[39m.\u001b[39;49murlopen(\n\u001b[1;32m    879\u001b[0m         method,\n\u001b[1;32m    880\u001b[0m         url,\n\u001b[1;32m    881\u001b[0m         body,\n\u001b[1;32m    882\u001b[0m         headers,\n\u001b[1;32m    883\u001b[0m         retries\u001b[39m=\u001b[39;49mretries,\n\u001b[1;32m    884\u001b[0m         redirect\u001b[39m=\u001b[39;49mredirect,\n\u001b[1;32m    885\u001b[0m         assert_same_host\u001b[39m=\u001b[39;49massert_same_host,\n\u001b[1;32m    886\u001b[0m         timeout\u001b[39m=\u001b[39;49mtimeout,\n\u001b[1;32m    887\u001b[0m         pool_timeout\u001b[39m=\u001b[39;49mpool_timeout,\n\u001b[1;32m    888\u001b[0m         release_conn\u001b[39m=\u001b[39;49mrelease_conn,\n\u001b[1;32m    889\u001b[0m         chunked\u001b[39m=\u001b[39;49mchunked,\n\u001b[1;32m    890\u001b[0m         body_pos\u001b[39m=\u001b[39;49mbody_pos,\n\u001b[1;32m    891\u001b[0m         \u001b[39m*\u001b[39;49m\u001b[39m*\u001b[39;49mresponse_kw\n\u001b[1;32m    892\u001b[0m     )\n\u001b[1;32m    894\u001b[0m \u001b[39mreturn\u001b[39;00m response\n",
      "File \u001b[0;32m~/rl-multi-domain-for-multi-placement/venv/lib/python3.10/site-packages/urllib3/connectionpool.py:868\u001b[0m, in \u001b[0;36mHTTPConnectionPool.urlopen\u001b[0;34m(self, method, url, body, headers, retries, redirect, assert_same_host, timeout, pool_timeout, release_conn, chunked, body_pos, **response_kw)\u001b[0m\n\u001b[1;32m    867\u001b[0m \u001b[39mtry\u001b[39;00m:\n\u001b[0;32m--> 868\u001b[0m     retries \u001b[39m=\u001b[39m retries\u001b[39m.\u001b[39;49mincrement(method, url, response\u001b[39m=\u001b[39;49mresponse, _pool\u001b[39m=\u001b[39;49m\u001b[39mself\u001b[39;49m)\n\u001b[1;32m    869\u001b[0m \u001b[39mexcept\u001b[39;00m MaxRetryError:\n",
      "File \u001b[0;32m~/rl-multi-domain-for-multi-placement/venv/lib/python3.10/site-packages/urllib3/util/retry.py:592\u001b[0m, in \u001b[0;36mRetry.increment\u001b[0;34m(self, method, url, response, error, _pool, _stacktrace)\u001b[0m\n\u001b[1;32m    591\u001b[0m \u001b[39mif\u001b[39;00m new_retry\u001b[39m.\u001b[39mis_exhausted():\n\u001b[0;32m--> 592\u001b[0m     \u001b[39mraise\u001b[39;00m MaxRetryError(_pool, url, error \u001b[39mor\u001b[39;00m ResponseError(cause))\n\u001b[1;32m    594\u001b[0m log\u001b[39m.\u001b[39mdebug(\u001b[39m\"\u001b[39m\u001b[39mIncremented Retry for (url=\u001b[39m\u001b[39m'\u001b[39m\u001b[39m%s\u001b[39;00m\u001b[39m'\u001b[39m\u001b[39m): \u001b[39m\u001b[39m%r\u001b[39;00m\u001b[39m\"\u001b[39m, url, new_retry)\n",
      "\u001b[0;31mMaxRetryError\u001b[0m: HTTPConnectionPool(host='127.0.0.1', port=5000): Max retries exceeded with url: /api/2.0/mlflow/registered-models/get-latest-versions (Caused by ResponseError('too many 500 error responses'))",
      "\nDuring handling of the above exception, another exception occurred:\n",
      "\u001b[0;31mRetryError\u001b[0m                                Traceback (most recent call last)",
      "File \u001b[0;32m~/rl-multi-domain-for-multi-placement/venv/lib/python3.10/site-packages/mlflow/utils/rest_utils.py:187\u001b[0m, in \u001b[0;36mhttp_request\u001b[0;34m(host_creds, endpoint, method, max_retries, backoff_factor, extra_headers, retry_codes, timeout, **kwargs)\u001b[0m\n\u001b[1;32m    186\u001b[0m \u001b[39mtry\u001b[39;00m:\n\u001b[0;32m--> 187\u001b[0m     \u001b[39mreturn\u001b[39;00m _get_http_response_with_retries(\n\u001b[1;32m    188\u001b[0m         method,\n\u001b[1;32m    189\u001b[0m         url,\n\u001b[1;32m    190\u001b[0m         max_retries,\n\u001b[1;32m    191\u001b[0m         backoff_factor,\n\u001b[1;32m    192\u001b[0m         retry_codes,\n\u001b[1;32m    193\u001b[0m         headers\u001b[39m=\u001b[39;49mheaders,\n\u001b[1;32m    194\u001b[0m         verify\u001b[39m=\u001b[39;49mhost_creds\u001b[39m.\u001b[39;49mverify,\n\u001b[1;32m    195\u001b[0m         timeout\u001b[39m=\u001b[39;49mtimeout,\n\u001b[1;32m    196\u001b[0m         \u001b[39m*\u001b[39;49m\u001b[39m*\u001b[39;49mkwargs,\n\u001b[1;32m    197\u001b[0m     )\n\u001b[1;32m    198\u001b[0m \u001b[39mexcept\u001b[39;00m requests\u001b[39m.\u001b[39mexceptions\u001b[39m.\u001b[39mTimeout \u001b[39mas\u001b[39;00m to:\n",
      "File \u001b[0;32m~/rl-multi-domain-for-multi-placement/venv/lib/python3.10/site-packages/mlflow/utils/rest_utils.py:118\u001b[0m, in \u001b[0;36m_get_http_response_with_retries\u001b[0;34m(method, url, max_retries, backoff_factor, retry_codes, **kwargs)\u001b[0m\n\u001b[1;32m    117\u001b[0m session \u001b[39m=\u001b[39m _get_request_session(max_retries, backoff_factor, retry_codes)\n\u001b[0;32m--> 118\u001b[0m \u001b[39mreturn\u001b[39;00m session\u001b[39m.\u001b[39;49mrequest(method, url, \u001b[39m*\u001b[39;49m\u001b[39m*\u001b[39;49mkwargs)\n",
      "File \u001b[0;32m~/rl-multi-domain-for-multi-placement/venv/lib/python3.10/site-packages/requests/sessions.py:587\u001b[0m, in \u001b[0;36mSession.request\u001b[0;34m(self, method, url, params, data, headers, cookies, files, auth, timeout, allow_redirects, proxies, hooks, stream, verify, cert, json)\u001b[0m\n\u001b[1;32m    586\u001b[0m send_kwargs\u001b[39m.\u001b[39mupdate(settings)\n\u001b[0;32m--> 587\u001b[0m resp \u001b[39m=\u001b[39m \u001b[39mself\u001b[39;49m\u001b[39m.\u001b[39;49msend(prep, \u001b[39m*\u001b[39;49m\u001b[39m*\u001b[39;49msend_kwargs)\n\u001b[1;32m    589\u001b[0m \u001b[39mreturn\u001b[39;00m resp\n",
      "File \u001b[0;32m~/rl-multi-domain-for-multi-placement/venv/lib/python3.10/site-packages/requests/sessions.py:701\u001b[0m, in \u001b[0;36mSession.send\u001b[0;34m(self, request, **kwargs)\u001b[0m\n\u001b[1;32m    700\u001b[0m \u001b[39m# Send the request\u001b[39;00m\n\u001b[0;32m--> 701\u001b[0m r \u001b[39m=\u001b[39m adapter\u001b[39m.\u001b[39;49msend(request, \u001b[39m*\u001b[39;49m\u001b[39m*\u001b[39;49mkwargs)\n\u001b[1;32m    703\u001b[0m \u001b[39m# Total elapsed time of the request (approximately)\u001b[39;00m\n",
      "File \u001b[0;32m~/rl-multi-domain-for-multi-placement/venv/lib/python3.10/site-packages/requests/adapters.py:556\u001b[0m, in \u001b[0;36mHTTPAdapter.send\u001b[0;34m(self, request, stream, timeout, verify, cert, proxies)\u001b[0m\n\u001b[1;32m    555\u001b[0m \u001b[39mif\u001b[39;00m \u001b[39misinstance\u001b[39m(e\u001b[39m.\u001b[39mreason, ResponseError):\n\u001b[0;32m--> 556\u001b[0m     \u001b[39mraise\u001b[39;00m RetryError(e, request\u001b[39m=\u001b[39mrequest)\n\u001b[1;32m    558\u001b[0m \u001b[39mif\u001b[39;00m \u001b[39misinstance\u001b[39m(e\u001b[39m.\u001b[39mreason, _ProxyError):\n",
      "\u001b[0;31mRetryError\u001b[0m: HTTPConnectionPool(host='127.0.0.1', port=5000): Max retries exceeded with url: /api/2.0/mlflow/registered-models/get-latest-versions (Caused by ResponseError('too many 500 error responses'))",
      "\nDuring handling of the above exception, another exception occurred:\n",
      "\u001b[0;31mMlflowException\u001b[0m                           Traceback (most recent call last)",
      "Cell \u001b[0;32mIn[7], line 3\u001b[0m\n\u001b[1;32m      1\u001b[0m MLFLOW_TRACKING_URI \u001b[39m=\u001b[39m \u001b[39m\"\u001b[39m\u001b[39mhttp://127.0.0.1:5000\u001b[39m\u001b[39m\"\u001b[39m\n\u001b[0;32m----> 3\u001b[0m event_handler \u001b[39m=\u001b[39m DebouncedEventHandler(model_name\u001b[39m=\u001b[39;49m\u001b[39m\"\u001b[39;49m\u001b[39mPPO_Model\u001b[39;49m\u001b[39m\"\u001b[39;49m, mlflow_url\u001b[39m=\u001b[39;49m MLFLOW_TRACKING_URI)\n",
      "Cell \u001b[0;32mIn[3], line 14\u001b[0m, in \u001b[0;36mDebouncedEventHandler.__init__\u001b[0;34m(self, mlflow_url, model_name)\u001b[0m\n\u001b[1;32m     12\u001b[0m \u001b[39mself\u001b[39m\u001b[39m.\u001b[39m_client \u001b[39m=\u001b[39m MlflowClient(tracking_uri\u001b[39m=\u001b[39m mlflow_url)\n\u001b[1;32m     13\u001b[0m \u001b[39mself\u001b[39m\u001b[39m.\u001b[39m_model_name \u001b[39m=\u001b[39m model_name\n\u001b[0;32m---> 14\u001b[0m \u001b[39mself\u001b[39m\u001b[39m.\u001b[39m_current_prod_file \u001b[39m=\u001b[39m \u001b[39mself\u001b[39;49m\u001b[39m.\u001b[39;49mget_prod_path()\n\u001b[1;32m     15\u001b[0m \u001b[39mself\u001b[39m\u001b[39m.\u001b[39mobserver \u001b[39m=\u001b[39m Observer()\n\u001b[1;32m     16\u001b[0m \u001b[39mself\u001b[39m\u001b[39m.\u001b[39mstart_observer()\n",
      "Cell \u001b[0;32mIn[3], line 41\u001b[0m, in \u001b[0;36mDebouncedEventHandler.get_prod_path\u001b[0;34m(self)\u001b[0m\n\u001b[1;32m     39\u001b[0m \u001b[39mdef\u001b[39;00m \u001b[39mget_prod_path\u001b[39m(\u001b[39mself\u001b[39m):\n\u001b[0;32m---> 41\u001b[0m     versions \u001b[39m=\u001b[39m \u001b[39mself\u001b[39;49m\u001b[39m.\u001b[39;49m_client\u001b[39m.\u001b[39;49mget_latest_versions(name\u001b[39m=\u001b[39;49m \u001b[39mself\u001b[39;49m\u001b[39m.\u001b[39;49m_model_name)\n\u001b[1;32m     42\u001b[0m \u001b[39m    \u001b[39m\u001b[39m\"\"\"\u001b[39;00m\n\u001b[1;32m     43\u001b[0m \u001b[39m    prod_v = None      \u001b[39;00m\n\u001b[1;32m     44\u001b[0m \u001b[39m    for version in versions : \u001b[39;00m\n\u001b[0;32m   (...)\u001b[0m\n\u001b[1;32m     47\u001b[0m \u001b[39m    return f\"{urlparse(prod_v.source).path.split('mlruns')[0]}mlruns/models/{self._model_name}/version-{prod_v.version}/meta.yaml\"\u001b[39;00m\n\u001b[1;32m     48\u001b[0m \u001b[39m    \"\"\"\u001b[39;00m\n\u001b[1;32m     49\u001b[0m     \u001b[39mreturn\u001b[39;00m \u001b[39m\"\u001b[39m\u001b[39m/home/ryad/rl-multi-domain-for-multi-placement/vnf_placement/notebooks/mlruns/models/PPO_Model/version-4/meta.yaml\u001b[39m\u001b[39m\"\u001b[39m\n",
      "File \u001b[0;32m~/rl-multi-domain-for-multi-placement/venv/lib/python3.10/site-packages/mlflow/tracking/client.py:2110\u001b[0m, in \u001b[0;36mMlflowClient.get_latest_versions\u001b[0;34m(self, name, stages)\u001b[0m\n\u001b[1;32m   2043\u001b[0m \u001b[39mdef\u001b[39;00m \u001b[39mget_latest_versions\u001b[39m(\u001b[39mself\u001b[39m, name: \u001b[39mstr\u001b[39m, stages: List[\u001b[39mstr\u001b[39m] \u001b[39m=\u001b[39m \u001b[39mNone\u001b[39;00m) \u001b[39m-\u001b[39m\u001b[39m>\u001b[39m List[ModelVersion]:\n\u001b[1;32m   2044\u001b[0m \u001b[39m    \u001b[39m\u001b[39m\"\"\"\u001b[39;00m\n\u001b[1;32m   2045\u001b[0m \u001b[39m    Latest version models for each requests stage. If no ``stages`` provided, returns the\u001b[39;00m\n\u001b[1;32m   2046\u001b[0m \u001b[39m    latest version for each stage.\u001b[39;00m\n\u001b[0;32m   (...)\u001b[0m\n\u001b[1;32m   2108\u001b[0m \u001b[39m        current_stage: None\u001b[39;00m\n\u001b[1;32m   2109\u001b[0m \u001b[39m    \"\"\"\u001b[39;00m\n\u001b[0;32m-> 2110\u001b[0m     \u001b[39mreturn\u001b[39;00m \u001b[39mself\u001b[39;49m\u001b[39m.\u001b[39;49m_get_registry_client()\u001b[39m.\u001b[39;49mget_latest_versions(name, stages)\n",
      "File \u001b[0;32m~/rl-multi-domain-for-multi-placement/venv/lib/python3.10/site-packages/mlflow/tracking/_model_registry/client.py:140\u001b[0m, in \u001b[0;36mModelRegistryClient.get_latest_versions\u001b[0;34m(self, name, stages)\u001b[0m\n\u001b[1;32m    130\u001b[0m \u001b[39mdef\u001b[39;00m \u001b[39mget_latest_versions\u001b[39m(\u001b[39mself\u001b[39m, name, stages\u001b[39m=\u001b[39m\u001b[39mNone\u001b[39;00m):\n\u001b[1;32m    131\u001b[0m \u001b[39m    \u001b[39m\u001b[39m\"\"\"\u001b[39;00m\n\u001b[1;32m    132\u001b[0m \u001b[39m    Latest version models for each requests stage. If no ``stages`` provided, returns the\u001b[39;00m\n\u001b[1;32m    133\u001b[0m \u001b[39m    latest version for each stage.\u001b[39;00m\n\u001b[0;32m   (...)\u001b[0m\n\u001b[1;32m    138\u001b[0m \u001b[39m    :return: List of :py:class:`mlflow.entities.model_registry.ModelVersion` objects.\u001b[39;00m\n\u001b[1;32m    139\u001b[0m \u001b[39m    \"\"\"\u001b[39;00m\n\u001b[0;32m--> 140\u001b[0m     \u001b[39mreturn\u001b[39;00m \u001b[39mself\u001b[39;49m\u001b[39m.\u001b[39;49mstore\u001b[39m.\u001b[39;49mget_latest_versions(name, stages)\n",
      "File \u001b[0;32m~/rl-multi-domain-for-multi-placement/venv/lib/python3.10/site-packages/mlflow/store/model_registry/rest_store.py:169\u001b[0m, in \u001b[0;36mRestStore.get_latest_versions\u001b[0;34m(self, name, stages)\u001b[0m\n\u001b[1;32m    159\u001b[0m \u001b[39m\u001b[39m\u001b[39m\"\"\"\u001b[39;00m\n\u001b[1;32m    160\u001b[0m \u001b[39mLatest version models for each requested stage. If no ``stages`` argument is provided,\u001b[39;00m\n\u001b[1;32m    161\u001b[0m \u001b[39mreturns the latest version for each stage.\u001b[39;00m\n\u001b[0;32m   (...)\u001b[0m\n\u001b[1;32m    166\u001b[0m \u001b[39m:return: List of :py:class:`mlflow.entities.model_registry.ModelVersion` objects.\u001b[39;00m\n\u001b[1;32m    167\u001b[0m \u001b[39m\"\"\"\u001b[39;00m\n\u001b[1;32m    168\u001b[0m req_body \u001b[39m=\u001b[39m message_to_json(GetLatestVersions(name\u001b[39m=\u001b[39mname, stages\u001b[39m=\u001b[39mstages))\n\u001b[0;32m--> 169\u001b[0m response_proto \u001b[39m=\u001b[39m \u001b[39mself\u001b[39;49m\u001b[39m.\u001b[39;49m_call_endpoint(GetLatestVersions, req_body, call_all_endpoints\u001b[39m=\u001b[39;49m\u001b[39mTrue\u001b[39;49;00m)\n\u001b[1;32m    170\u001b[0m \u001b[39mreturn\u001b[39;00m [\n\u001b[1;32m    171\u001b[0m     ModelVersion\u001b[39m.\u001b[39mfrom_proto(model_version)\n\u001b[1;32m    172\u001b[0m     \u001b[39mfor\u001b[39;00m model_version \u001b[39min\u001b[39;00m response_proto\u001b[39m.\u001b[39mmodel_versions\n\u001b[1;32m    173\u001b[0m ]\n",
      "File \u001b[0;32m~/rl-multi-domain-for-multi-placement/venv/lib/python3.10/site-packages/mlflow/store/model_registry/base_rest_store.py:39\u001b[0m, in \u001b[0;36mBaseRestStore._call_endpoint\u001b[0;34m(self, api, json_body, call_all_endpoints)\u001b[0m\n\u001b[1;32m     37\u001b[0m \u001b[39mif\u001b[39;00m call_all_endpoints:\n\u001b[1;32m     38\u001b[0m     endpoints \u001b[39m=\u001b[39m \u001b[39mself\u001b[39m\u001b[39m.\u001b[39m_get_all_endpoints_from_method(api)\n\u001b[0;32m---> 39\u001b[0m     \u001b[39mreturn\u001b[39;00m call_endpoints(\u001b[39mself\u001b[39;49m\u001b[39m.\u001b[39;49mget_host_creds(), endpoints, json_body, response_proto)\n\u001b[1;32m     40\u001b[0m \u001b[39melse\u001b[39;00m:\n\u001b[1;32m     41\u001b[0m     endpoint, method \u001b[39m=\u001b[39m \u001b[39mself\u001b[39m\u001b[39m.\u001b[39m_get_endpoint_from_method(api)\n",
      "File \u001b[0;32m~/rl-multi-domain-for-multi-placement/venv/lib/python3.10/site-packages/mlflow/utils/rest_utils.py:314\u001b[0m, in \u001b[0;36mcall_endpoints\u001b[0;34m(host_creds, endpoints, json_body, response_proto)\u001b[0m\n\u001b[1;32m    312\u001b[0m \u001b[39mfor\u001b[39;00m i, (endpoint, method) \u001b[39min\u001b[39;00m \u001b[39menumerate\u001b[39m(endpoints):\n\u001b[1;32m    313\u001b[0m     \u001b[39mtry\u001b[39;00m:\n\u001b[0;32m--> 314\u001b[0m         \u001b[39mreturn\u001b[39;00m call_endpoint(host_creds, endpoint, method, json_body, response_proto)\n\u001b[1;32m    315\u001b[0m     \u001b[39mexcept\u001b[39;00m RestException \u001b[39mas\u001b[39;00m e:\n\u001b[1;32m    316\u001b[0m         \u001b[39mif\u001b[39;00m e\u001b[39m.\u001b[39merror_code \u001b[39m!=\u001b[39m ErrorCode\u001b[39m.\u001b[39mName(ENDPOINT_NOT_FOUND) \u001b[39mor\u001b[39;00m i \u001b[39m==\u001b[39m \u001b[39mlen\u001b[39m(endpoints) \u001b[39m-\u001b[39m \u001b[39m1\u001b[39m:\n",
      "File \u001b[0;32m~/rl-multi-domain-for-multi-placement/venv/lib/python3.10/site-packages/mlflow/utils/rest_utils.py:300\u001b[0m, in \u001b[0;36mcall_endpoint\u001b[0;34m(host_creds, endpoint, method, json_body, response_proto)\u001b[0m\n\u001b[1;32m    296\u001b[0m     response \u001b[39m=\u001b[39m http_request(\n\u001b[1;32m    297\u001b[0m         host_creds\u001b[39m=\u001b[39mhost_creds, endpoint\u001b[39m=\u001b[39mendpoint, method\u001b[39m=\u001b[39mmethod, params\u001b[39m=\u001b[39mjson_body\n\u001b[1;32m    298\u001b[0m     )\n\u001b[1;32m    299\u001b[0m \u001b[39melse\u001b[39;00m:\n\u001b[0;32m--> 300\u001b[0m     response \u001b[39m=\u001b[39m http_request(\n\u001b[1;32m    301\u001b[0m         host_creds\u001b[39m=\u001b[39;49mhost_creds, endpoint\u001b[39m=\u001b[39;49mendpoint, method\u001b[39m=\u001b[39;49mmethod, json\u001b[39m=\u001b[39;49mjson_body\n\u001b[1;32m    302\u001b[0m     )\n\u001b[1;32m    303\u001b[0m response \u001b[39m=\u001b[39m verify_rest_response(response, endpoint)\n\u001b[1;32m    304\u001b[0m js_dict \u001b[39m=\u001b[39m json\u001b[39m.\u001b[39mloads(response\u001b[39m.\u001b[39mtext)\n",
      "File \u001b[0;32m~/rl-multi-domain-for-multi-placement/venv/lib/python3.10/site-packages/mlflow/utils/rest_utils.py:205\u001b[0m, in \u001b[0;36mhttp_request\u001b[0;34m(host_creds, endpoint, method, max_retries, backoff_factor, extra_headers, retry_codes, timeout, **kwargs)\u001b[0m\n\u001b[1;32m    199\u001b[0m     \u001b[39mraise\u001b[39;00m MlflowException(\n\u001b[1;32m    200\u001b[0m         \u001b[39mf\u001b[39m\u001b[39m\"\u001b[39m\u001b[39mAPI request to \u001b[39m\u001b[39m{\u001b[39;00murl\u001b[39m}\u001b[39;00m\u001b[39m failed with timeout exception \u001b[39m\u001b[39m{\u001b[39;00mto\u001b[39m}\u001b[39;00m\u001b[39m.\u001b[39m\u001b[39m\"\u001b[39m\n\u001b[1;32m    201\u001b[0m         \u001b[39mf\u001b[39m\u001b[39m\"\u001b[39m\u001b[39m To increase the timeout, set the environment variable \u001b[39m\u001b[39m{\u001b[39;00mMLFLOW_HTTP_REQUEST_TIMEOUT\u001b[39m}\u001b[39;00m\u001b[39m\"\u001b[39m\n\u001b[1;32m    202\u001b[0m         \u001b[39m\"\u001b[39m\u001b[39m to a larger value.\u001b[39m\u001b[39m\"\u001b[39m\n\u001b[1;32m    203\u001b[0m     )\n\u001b[1;32m    204\u001b[0m \u001b[39mexcept\u001b[39;00m \u001b[39mException\u001b[39;00m \u001b[39mas\u001b[39;00m e:\n\u001b[0;32m--> 205\u001b[0m     \u001b[39mraise\u001b[39;00m MlflowException(\u001b[39mf\u001b[39m\u001b[39m\"\u001b[39m\u001b[39mAPI request to \u001b[39m\u001b[39m{\u001b[39;00murl\u001b[39m}\u001b[39;00m\u001b[39m failed with exception \u001b[39m\u001b[39m{\u001b[39;00me\u001b[39m}\u001b[39;00m\u001b[39m\"\u001b[39m)\n",
      "\u001b[0;31mMlflowException\u001b[0m: API request to http://127.0.0.1:5000/api/2.0/mlflow/registered-models/get-latest-versions failed with exception HTTPConnectionPool(host='127.0.0.1', port=5000): Max retries exceeded with url: /api/2.0/mlflow/registered-models/get-latest-versions (Caused by ResponseError('too many 500 error responses'))"
     ]
    }
   ],
   "source": [
    "MLFLOW_TRACKING_URI = \"http://127.0.0.1:5000\"\n",
    "\n",
    "event_handler = DebouncedEventHandler(model_name=\"PPO_Model\", mlflow_url= MLFLOW_TRACKING_URI)\n",
    "\n"
   ]
  },
  {
   "cell_type": "code",
   "execution_count": 11,
   "metadata": {},
   "outputs": [
    {
     "name": "stderr",
     "output_type": "stream",
     "text": [
      "Exception in thread Thread-10:\n",
      "Traceback (most recent call last):\n",
      "  File \"/home/ryad/rl-multi-domain-for-multi-placement/venv/lib/python3.10/site-packages/requests/adapters.py\", line 489, in send\n",
      "    resp = conn.urlopen(\n",
      "  File \"/home/ryad/rl-multi-domain-for-multi-placement/venv/lib/python3.10/site-packages/urllib3/connectionpool.py\", line 878, in urlopen\n",
      "    return self.urlopen(\n",
      "  File \"/home/ryad/rl-multi-domain-for-multi-placement/venv/lib/python3.10/site-packages/urllib3/connectionpool.py\", line 878, in urlopen\n",
      "    return self.urlopen(\n",
      "  File \"/home/ryad/rl-multi-domain-for-multi-placement/venv/lib/python3.10/site-packages/urllib3/connectionpool.py\", line 878, in urlopen\n",
      "    return self.urlopen(\n",
      "  [Previous line repeated 2 more times]\n",
      "  File \"/home/ryad/rl-multi-domain-for-multi-placement/venv/lib/python3.10/site-packages/urllib3/connectionpool.py\", line 868, in urlopen\n",
      "    retries = retries.increment(method, url, response=response, _pool=self)\n",
      "  File \"/home/ryad/rl-multi-domain-for-multi-placement/venv/lib/python3.10/site-packages/urllib3/util/retry.py\", line 592, in increment\n",
      "    raise MaxRetryError(_pool, url, error or ResponseError(cause))\n",
      "urllib3.exceptions.MaxRetryError: HTTPConnectionPool(host='127.0.0.1', port=5000): Max retries exceeded with url: /api/2.0/mlflow/registered-models/get-latest-versions (Caused by ResponseError('too many 500 error responses'))\n",
      "\n",
      "During handling of the above exception, another exception occurred:\n",
      "\n",
      "Traceback (most recent call last):\n",
      "  File \"/home/ryad/rl-multi-domain-for-multi-placement/venv/lib/python3.10/site-packages/mlflow/utils/rest_utils.py\", line 187, in http_request\n",
      "    return _get_http_response_with_retries(\n",
      "  File \"/home/ryad/rl-multi-domain-for-multi-placement/venv/lib/python3.10/site-packages/mlflow/utils/rest_utils.py\", line 118, in _get_http_response_with_retries\n",
      "    return session.request(method, url, **kwargs)\n",
      "  File \"/home/ryad/rl-multi-domain-for-multi-placement/venv/lib/python3.10/site-packages/requests/sessions.py\", line 587, in request\n",
      "    resp = self.send(prep, **send_kwargs)\n",
      "  File \"/home/ryad/rl-multi-domain-for-multi-placement/venv/lib/python3.10/site-packages/requests/sessions.py\", line 701, in send\n",
      "    r = adapter.send(request, **kwargs)\n",
      "  File \"/home/ryad/rl-multi-domain-for-multi-placement/venv/lib/python3.10/site-packages/requests/adapters.py\", line 556, in send\n",
      "    raise RetryError(e, request=request)\n",
      "requests.exceptions.RetryError: HTTPConnectionPool(host='127.0.0.1', port=5000): Max retries exceeded with url: /api/2.0/mlflow/registered-models/get-latest-versions (Caused by ResponseError('too many 500 error responses'))\n",
      "\n",
      "During handling of the above exception, another exception occurred:\n",
      "\n",
      "Traceback (most recent call last):\n",
      "  File \"/usr/lib/python3.10/threading.py\", line 1016, in _bootstrap_inner\n",
      "    self.run()\n",
      "  File \"/home/ryad/rl-multi-domain-for-multi-placement/venv/lib/python3.10/site-packages/watchdog/observers/api.py\", line 204, in run\n",
      "    self.dispatch_events(self.event_queue)\n",
      "  File \"/home/ryad/rl-multi-domain-for-multi-placement/venv/lib/python3.10/site-packages/watchdog/observers/api.py\", line 380, in dispatch_events\n",
      "    handler.dispatch(event)\n",
      "  File \"/home/ryad/rl-multi-domain-for-multi-placement/venv/lib/python3.10/site-packages/watchdog/events.py\", line 276, in dispatch\n",
      "    {\n",
      "  File \"/tmp/ipykernel_921951/3333248994.py\", line 21, in on_modified\n",
      "  File \"/tmp/ipykernel_921951/3333248994.py\", line 26, in handle_modified_event\n",
      "  File \"/tmp/ipykernel_921951/3333248994.py\", line 40, in get_prod_path\n",
      "  File \"/home/ryad/rl-multi-domain-for-multi-placement/venv/lib/python3.10/site-packages/mlflow/tracking/client.py\", line 2110, in get_latest_versions\n",
      "    return self._get_registry_client().get_latest_versions(name, stages)\n",
      "  File \"/home/ryad/rl-multi-domain-for-multi-placement/venv/lib/python3.10/site-packages/mlflow/tracking/_model_registry/client.py\", line 140, in get_latest_versions\n",
      "    return self.store.get_latest_versions(name, stages)\n",
      "  File \"/home/ryad/rl-multi-domain-for-multi-placement/venv/lib/python3.10/site-packages/mlflow/store/model_registry/rest_store.py\", line 169, in get_latest_versions\n",
      "    response_proto = self._call_endpoint(GetLatestVersions, req_body, call_all_endpoints=True)\n",
      "  File \"/home/ryad/rl-multi-domain-for-multi-placement/venv/lib/python3.10/site-packages/mlflow/store/model_registry/base_rest_store.py\", line 39, in _call_endpoint\n",
      "    return call_endpoints(self.get_host_creds(), endpoints, json_body, response_proto)\n",
      "  File \"/home/ryad/rl-multi-domain-for-multi-placement/venv/lib/python3.10/site-packages/mlflow/utils/rest_utils.py\", line 314, in call_endpoints\n",
      "    return call_endpoint(host_creds, endpoint, method, json_body, response_proto)\n",
      "  File \"/home/ryad/rl-multi-domain-for-multi-placement/venv/lib/python3.10/site-packages/mlflow/utils/rest_utils.py\", line 300, in call_endpoint\n",
      "    response = http_request(\n",
      "  File \"/home/ryad/rl-multi-domain-for-multi-placement/venv/lib/python3.10/site-packages/mlflow/utils/rest_utils.py\", line 205, in http_request\n",
      "    raise MlflowException(f\"API request to {url} failed with exception {e}\")\n",
      "mlflow.exceptions.MlflowException: API request to http://127.0.0.1:5000/api/2.0/mlflow/registered-models/get-latest-versions failed with exception HTTPConnectionPool(host='127.0.0.1', port=5000): Max retries exceeded with url: /api/2.0/mlflow/registered-models/get-latest-versions (Caused by ResponseError('too many 500 error responses'))\n"
     ]
    },
    {
     "name": "stderr",
     "output_type": "stream",
     "text": [
      "Exception in thread Thread-7:\n",
      "Traceback (most recent call last):\n",
      "  File \"/home/ryad/rl-multi-domain-for-multi-placement/venv/lib/python3.10/site-packages/requests/adapters.py\", line 489, in send\n",
      "    resp = conn.urlopen(\n",
      "  File \"/home/ryad/rl-multi-domain-for-multi-placement/venv/lib/python3.10/site-packages/urllib3/connectionpool.py\", line 878, in urlopen\n",
      "    return self.urlopen(\n",
      "  File \"/home/ryad/rl-multi-domain-for-multi-placement/venv/lib/python3.10/site-packages/urllib3/connectionpool.py\", line 878, in urlopen\n",
      "    return self.urlopen(\n",
      "  File \"/home/ryad/rl-multi-domain-for-multi-placement/venv/lib/python3.10/site-packages/urllib3/connectionpool.py\", line 878, in urlopen\n",
      "    return self.urlopen(\n",
      "  [Previous line repeated 2 more times]\n",
      "  File \"/home/ryad/rl-multi-domain-for-multi-placement/venv/lib/python3.10/site-packages/urllib3/connectionpool.py\", line 868, in urlopen\n",
      "    retries = retries.increment(method, url, response=response, _pool=self)\n",
      "  File \"/home/ryad/rl-multi-domain-for-multi-placement/venv/lib/python3.10/site-packages/urllib3/util/retry.py\", line 592, in increment\n",
      "    raise MaxRetryError(_pool, url, error or ResponseError(cause))\n",
      "urllib3.exceptions.MaxRetryError: HTTPConnectionPool(host='127.0.0.1', port=5000): Max retries exceeded with url: /api/2.0/mlflow/registered-models/get-latest-versions (Caused by ResponseError('too many 500 error responses'))\n",
      "\n",
      "During handling of the above exception, another exception occurred:\n",
      "\n",
      "Traceback (most recent call last):\n",
      "  File \"/home/ryad/rl-multi-domain-for-multi-placement/venv/lib/python3.10/site-packages/mlflow/utils/rest_utils.py\", line 187, in http_request\n",
      "    return _get_http_response_with_retries(\n",
      "  File \"/home/ryad/rl-multi-domain-for-multi-placement/venv/lib/python3.10/site-packages/mlflow/utils/rest_utils.py\", line 118, in _get_http_response_with_retries\n",
      "    return session.request(method, url, **kwargs)\n",
      "  File \"/home/ryad/rl-multi-domain-for-multi-placement/venv/lib/python3.10/site-packages/requests/sessions.py\", line 587, in request\n",
      "    resp = self.send(prep, **send_kwargs)\n",
      "  File \"/home/ryad/rl-multi-domain-for-multi-placement/venv/lib/python3.10/site-packages/requests/sessions.py\", line 701, in send\n",
      "    r = adapter.send(request, **kwargs)\n",
      "  File \"/home/ryad/rl-multi-domain-for-multi-placement/venv/lib/python3.10/site-packages/requests/adapters.py\", line 556, in send\n",
      "    raise RetryError(e, request=request)\n",
      "requests.exceptions.RetryError: HTTPConnectionPool(host='127.0.0.1', port=5000): Max retries exceeded with url: /api/2.0/mlflow/registered-models/get-latest-versions (Caused by ResponseError('too many 500 error responses'))\n",
      "\n",
      "During handling of the above exception, another exception occurred:\n",
      "\n",
      "Traceback (most recent call last):\n",
      "  File \"/usr/lib/python3.10/threading.py\", line 1016, in _bootstrap_inner\n",
      "    self.run()\n",
      "  File \"/home/ryad/rl-multi-domain-for-multi-placement/venv/lib/python3.10/site-packages/watchdog/observers/api.py\", line 204, in run\n",
      "    self.dispatch_events(self.event_queue)\n",
      "  File \"/home/ryad/rl-multi-domain-for-multi-placement/venv/lib/python3.10/site-packages/watchdog/observers/api.py\", line 380, in dispatch_events\n",
      "    handler.dispatch(event)\n",
      "  File \"/home/ryad/rl-multi-domain-for-multi-placement/venv/lib/python3.10/site-packages/watchdog/events.py\", line 276, in dispatch\n",
      "    {\n",
      "  File \"/tmp/ipykernel_921951/3333248994.py\", line 21, in on_modified\n",
      "  File \"/tmp/ipykernel_921951/3333248994.py\", line 26, in handle_modified_event\n",
      "  File \"/tmp/ipykernel_921951/3333248994.py\", line 40, in get_prod_path\n",
      "  File \"/home/ryad/rl-multi-domain-for-multi-placement/venv/lib/python3.10/site-packages/mlflow/tracking/client.py\", line 2110, in get_latest_versions\n",
      "    return self._get_registry_client().get_latest_versions(name, stages)\n",
      "  File \"/home/ryad/rl-multi-domain-for-multi-placement/venv/lib/python3.10/site-packages/mlflow/tracking/_model_registry/client.py\", line 140, in get_latest_versions\n",
      "    return self.store.get_latest_versions(name, stages)\n",
      "  File \"/home/ryad/rl-multi-domain-for-multi-placement/venv/lib/python3.10/site-packages/mlflow/store/model_registry/rest_store.py\", line 169, in get_latest_versions\n",
      "    response_proto = self._call_endpoint(GetLatestVersions, req_body, call_all_endpoints=True)\n",
      "  File \"/home/ryad/rl-multi-domain-for-multi-placement/venv/lib/python3.10/site-packages/mlflow/store/model_registry/base_rest_store.py\", line 39, in _call_endpoint\n",
      "    return call_endpoints(self.get_host_creds(), endpoints, json_body, response_proto)\n",
      "  File \"/home/ryad/rl-multi-domain-for-multi-placement/venv/lib/python3.10/site-packages/mlflow/utils/rest_utils.py\", line 314, in call_endpoints\n",
      "    return call_endpoint(host_creds, endpoint, method, json_body, response_proto)\n",
      "  File \"/home/ryad/rl-multi-domain-for-multi-placement/venv/lib/python3.10/site-packages/mlflow/utils/rest_utils.py\", line 300, in call_endpoint\n",
      "    response = http_request(\n",
      "  File \"/home/ryad/rl-multi-domain-for-multi-placement/venv/lib/python3.10/site-packages/mlflow/utils/rest_utils.py\", line 205, in http_request\n",
      "    raise MlflowException(f\"API request to {url} failed with exception {e}\")\n",
      "mlflow.exceptions.MlflowException: API request to http://127.0.0.1:5000/api/2.0/mlflow/registered-models/get-latest-versions failed with exception HTTPConnectionPool(host='127.0.0.1', port=5000): Max retries exceeded with url: /api/2.0/mlflow/registered-models/get-latest-versions (Caused by ResponseError('too many 500 error responses'))\n",
      "Exception in thread Thread-4:\n",
      "Traceback (most recent call last):\n",
      "  File \"/home/ryad/rl-multi-domain-for-multi-placement/venv/lib/python3.10/site-packages/requests/adapters.py\", line 489, in send\n",
      "    resp = conn.urlopen(\n",
      "  File \"/home/ryad/rl-multi-domain-for-multi-placement/venv/lib/python3.10/site-packages/urllib3/connectionpool.py\", line 878, in urlopen\n",
      "    return self.urlopen(\n",
      "  File \"/home/ryad/rl-multi-domain-for-multi-placement/venv/lib/python3.10/site-packages/urllib3/connectionpool.py\", line 878, in urlopen\n",
      "    return self.urlopen(\n",
      "  File \"/home/ryad/rl-multi-domain-for-multi-placement/venv/lib/python3.10/site-packages/urllib3/connectionpool.py\", line 878, in urlopen\n",
      "    return self.urlopen(\n",
      "  [Previous line repeated 2 more times]\n",
      "  File \"/home/ryad/rl-multi-domain-for-multi-placement/venv/lib/python3.10/site-packages/urllib3/connectionpool.py\", line 868, in urlopen\n",
      "    retries = retries.increment(method, url, response=response, _pool=self)\n",
      "  File \"/home/ryad/rl-multi-domain-for-multi-placement/venv/lib/python3.10/site-packages/urllib3/util/retry.py\", line 592, in increment\n",
      "    raise MaxRetryError(_pool, url, error or ResponseError(cause))\n",
      "urllib3.exceptions.MaxRetryError: HTTPConnectionPool(host='127.0.0.1', port=5000): Max retries exceeded with url: /api/2.0/mlflow/registered-models/get-latest-versions (Caused by ResponseError('too many 500 error responses'))\n",
      "\n",
      "During handling of the above exception, another exception occurred:\n",
      "\n",
      "Traceback (most recent call last):\n",
      "  File \"/home/ryad/rl-multi-domain-for-multi-placement/venv/lib/python3.10/site-packages/mlflow/utils/rest_utils.py\", line 187, in http_request\n",
      "    return _get_http_response_with_retries(\n",
      "  File \"/home/ryad/rl-multi-domain-for-multi-placement/venv/lib/python3.10/site-packages/mlflow/utils/rest_utils.py\", line 118, in _get_http_response_with_retries\n",
      "    return session.request(method, url, **kwargs)\n",
      "  File \"/home/ryad/rl-multi-domain-for-multi-placement/venv/lib/python3.10/site-packages/requests/sessions.py\", line 587, in request\n",
      "    resp = self.send(prep, **send_kwargs)\n",
      "  File \"/home/ryad/rl-multi-domain-for-multi-placement/venv/lib/python3.10/site-packages/requests/sessions.py\", line 701, in send\n",
      "    r = adapter.send(request, **kwargs)\n",
      "  File \"/home/ryad/rl-multi-domain-for-multi-placement/venv/lib/python3.10/site-packages/requests/adapters.py\", line 556, in send\n",
      "    raise RetryError(e, request=request)\n",
      "requests.exceptions.RetryError: HTTPConnectionPool(host='127.0.0.1', port=5000): Max retries exceeded with url: /api/2.0/mlflow/registered-models/get-latest-versions (Caused by ResponseError('too many 500 error responses'))\n",
      "\n",
      "During handling of the above exception, another exception occurred:\n",
      "\n",
      "Traceback (most recent call last):\n",
      "  File \"/usr/lib/python3.10/threading.py\", line 1016, in _bootstrap_inner\n",
      "    self.run()\n",
      "  File \"/home/ryad/rl-multi-domain-for-multi-placement/venv/lib/python3.10/site-packages/watchdog/observers/api.py\", line 204, in run\n",
      "    self.dispatch_events(self.event_queue)\n",
      "  File \"/home/ryad/rl-multi-domain-for-multi-placement/venv/lib/python3.10/site-packages/watchdog/observers/api.py\", line 380, in dispatch_events\n",
      "    handler.dispatch(event)\n",
      "  File \"/home/ryad/rl-multi-domain-for-multi-placement/venv/lib/python3.10/site-packages/watchdog/events.py\", line 276, in dispatch\n",
      "    {\n",
      "  File \"/tmp/ipykernel_921951/3333248994.py\", line 21, in on_modified\n",
      "  File \"/tmp/ipykernel_921951/3333248994.py\", line 26, in handle_modified_event\n",
      "  File \"/tmp/ipykernel_921951/3333248994.py\", line 40, in get_prod_path\n",
      "  File \"/home/ryad/rl-multi-domain-for-multi-placement/venv/lib/python3.10/site-packages/mlflow/tracking/client.py\", line 2110, in get_latest_versions\n",
      "    return self._get_registry_client().get_latest_versions(name, stages)\n",
      "  File \"/home/ryad/rl-multi-domain-for-multi-placement/venv/lib/python3.10/site-packages/mlflow/tracking/_model_registry/client.py\", line 140, in get_latest_versions\n",
      "    return self.store.get_latest_versions(name, stages)\n",
      "  File \"/home/ryad/rl-multi-domain-for-multi-placement/venv/lib/python3.10/site-packages/mlflow/store/model_registry/rest_store.py\", line 169, in get_latest_versions\n",
      "    response_proto = self._call_endpoint(GetLatestVersions, req_body, call_all_endpoints=True)\n",
      "  File \"/home/ryad/rl-multi-domain-for-multi-placement/venv/lib/python3.10/site-packages/mlflow/store/model_registry/base_rest_store.py\", line 39, in _call_endpoint\n",
      "    return call_endpoints(self.get_host_creds(), endpoints, json_body, response_proto)\n",
      "  File \"/home/ryad/rl-multi-domain-for-multi-placement/venv/lib/python3.10/site-packages/mlflow/utils/rest_utils.py\", line 314, in call_endpoints\n",
      "    return call_endpoint(host_creds, endpoint, method, json_body, response_proto)\n",
      "  File \"/home/ryad/rl-multi-domain-for-multi-placement/venv/lib/python3.10/site-packages/mlflow/utils/rest_utils.py\", line 300, in call_endpoint\n",
      "    response = http_request(\n",
      "  File \"/home/ryad/rl-multi-domain-for-multi-placement/venv/lib/python3.10/site-packages/mlflow/utils/rest_utils.py\", line 205, in http_request\n",
      "    raise MlflowException(f\"API request to {url} failed with exception {e}\")\n",
      "mlflow.exceptions.MlflowException: API request to http://127.0.0.1:5000/api/2.0/mlflow/registered-models/get-latest-versions failed with exception HTTPConnectionPool(host='127.0.0.1', port=5000): Max retries exceeded with url: /api/2.0/mlflow/registered-models/get-latest-versions (Caused by ResponseError('too many 500 error responses'))\n"
     ]
    }
   ],
   "source": [
    "try:\n",
    "    while True:\n",
    "        time.sleep(1)\n",
    "except KeyboardInterrupt:\n",
    "    event_handler.stop_observer()"
   ]
  },
  {
   "cell_type": "code",
   "execution_count": 4,
   "metadata": {},
   "outputs": [],
   "source": [
    "#event_handler = DebouncedEventHandler(model_name=\"PPO_Model\", mlflow_url= MLFLOW_TRACKING_URI)\n",
    "path = '/home/ryad/rl-multi-domain-for-multi-placement/vnf_placement/notebooks/mlruns/models/PPO_Model/version-4/meta.yaml'\n",
    "MLFLOW_TRACKING_URI = \"http://127.0.0.1:5000\""
   ]
  },
  {
   "cell_type": "code",
   "execution_count": 11,
   "metadata": {},
   "outputs": [
    {
     "name": "stdout",
     "output_type": "stream",
     "text": [
      "file:///home/ryad/rl-multi-domain-for-multi-placement/vnf_placement/notebooks/mlruns/0/670a32d3cc9048d99cd6d0566ebb7810/artifacts/test7\n"
     ]
    }
   ],
   "source": [
    "from mlflow.tracking import MlflowClient\n",
    "import mlflow \n",
    "\n",
    "client = MlflowClient(tracking_uri= \"http://127.0.0.1:5000\")\n",
    "model_name=\"PPO_Model\"\n",
    "versions = client.get_latest_versions(name= model_name)\n",
    "prod_v = None      \n",
    "for version in versions : \n",
    "    if version.current_stage == \"Production\" :\n",
    "        prod_v = version \n",
    "\n",
    "print(prod_v.source)"
   ]
  },
  {
   "cell_type": "code",
   "execution_count": null,
   "metadata": {},
   "outputs": [],
   "source": [
    "path = '/home/ryad/rl-multi-domain-for-multi-placement/vnf_placement/notebooks/mlruns/models/PPO_Model/version-4/meta.yaml'\n",
    "MLFLOW_TRACKING_URI = \"http://127.0.0.1:5000\"\n",
    "\n",
    "event_handler = DebouncedEventHandler(model_name=\"PPO_Model\", mlflow_url= MLFLOW_TRACKING_URI)\n",
    "observer = Observer()\n",
    "observer.schedule(event_handler, path, recursive=True)\n",
    "\n",
    "observer.start()\n",
    "try:\n",
    "    while True:\n",
    "        time.sleep(1)\n",
    "except KeyboardInterrupt:\n",
    "    observer.stop()\n",
    "observer.join()"
   ]
  },
  {
   "cell_type": "code",
   "execution_count": 27,
   "metadata": {},
   "outputs": [
    {
     "name": "stdout",
     "output_type": "stream",
     "text": [
      "File changed!File changed! \n",
      "\n",
      "<FileModifiedEvent: event_type=modified, src_path='/home/ryad/rl-multi-domain-for-multi-placement/vnf_placement/notebooks/mlruns/models/PPO_Model/version-4/meta.yaml', is_directory=False>\n",
      "ho\n",
      "\n",
      "File changed!\n",
      "File changed!\n",
      "File changed! \n",
      "\n",
      "<FileModifiedEvent: event_type=modified, src_path='/home/ryad/rl-multi-domain-for-multi-placement/vnf_placement/notebooks/mlruns/models/PPO_Model/version-4/meta.yaml', is_directory=False>\n",
      "ho\n",
      "File changed! \n",
      "\n",
      "<DirModifiedEvent: event_type=modified, src_path='/home/ryad/rl-multi-domain-for-multi-placement/vnf_placement/notebooks/mlruns/models/PPO_Model/version-4', is_directory=True>\n",
      "ho\n"
     ]
    }
   ],
   "source": [
    "observer.start()\n",
    "try:\n",
    "    while True:\n",
    "        pass\n",
    "except KeyboardInterrupt:\n",
    "    observer.stop()\n",
    "\n",
    "observer.join()"
   ]
  }
 ],
 "metadata": {
  "kernelspec": {
   "display_name": "venv",
   "language": "python",
   "name": "python3"
  },
  "language_info": {
   "codemirror_mode": {
    "name": "ipython",
    "version": 3
   },
   "file_extension": ".py",
   "mimetype": "text/x-python",
   "name": "python",
   "nbconvert_exporter": "python",
   "pygments_lexer": "ipython3",
   "version": "3.10.6"
  },
  "orig_nbformat": 4
 },
 "nbformat": 4,
 "nbformat_minor": 2
}
