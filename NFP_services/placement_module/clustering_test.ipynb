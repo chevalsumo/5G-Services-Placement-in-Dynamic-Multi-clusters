{
 "cells": [
  {
   "cell_type": "code",
   "execution_count": 5,
   "metadata": {},
   "outputs": [],
   "source": [
    "from clustering_tools import *\n"
   ]
  },
  {
   "cell_type": "code",
   "execution_count": 6,
   "metadata": {},
   "outputs": [],
   "source": [
    "class AugmentedGraph:\n",
    "\n",
    "    def __init__(self, nb_cluster):\n",
    "        self._nb_cluster = nb_cluster \n",
    "        self._clusters = None\n",
    "\n",
    "    def get_clusters(self, _adj_attrs = None, nb_cluster = None):\n",
    "        if nb_cluster is None :\n",
    "            nb_cluster = self._nb_cluster\n",
    "        sc = SpectralClustering(n_clusters=nb_cluster, affinity= \"precomputed\")\n",
    "        mod = sc.fit_predict(_adj_attrs)\n",
    "        nb_nodes = _adj_attrs.shape[0]\n",
    "        clusters = {\n",
    "            i : [] for i in range(nb_cluster)\n",
    "        }\n",
    "        for i in range(nb_nodes) :\n",
    "            clusters[mod[i]].append(i)\n",
    "        return clusters\n",
    "        \n",
    "    def get_final_action(self, _selected_cluster, MAX_DEFAULT_NODE_DELAY, _vnf_obs = None, choice = \"Min_DELAY\"):\n",
    "        nodes = self._clusters[_selected_cluster]\n",
    "        _selected = self.select_nod_cluster(nodes, self._costs, self._pns_attrs, MAX_DEFAULT_NODE_DELAY, choice, _vnf_obs = _vnf_obs)\n",
    "        return _selected\n",
    "    \n",
    "    def get_augmented_graph(self, _adj_attrs = None, _pns_attrs = None, keep_clusters = True, _costs = False, MAX_DEFAULT_NODE_DELAY = False, choice = \"Max_RAM\"):\n",
    "        \n",
    "        self._pns_attrs = _pns_attrs\n",
    "        self._adj_attrs = _adj_attrs\n",
    "        self._costs = _costs\n",
    "\n",
    "        if (not keep_clusters) or (self._clusters is None):\n",
    "            self._clusters = self.get_clusters(_adj_attrs = _adj_attrs)\n",
    "        _cls_costs = []\n",
    "        _cls_attrs = None\n",
    "        for _id, cls in self._clusters.items():\n",
    "            _selected = self.select_nod_cluster(cls,_costs, _pns_attrs, MAX_DEFAULT_NODE_DELAY, choice)\n",
    "            _cl_attrs = _pns_attrs[_selected, :]\n",
    "            if _cls_attrs is None :\n",
    "                    _cls_attrs = _cl_attrs\n",
    "            else :\n",
    "                    _cls_attrs = np.vstack((_cls_attrs, _cl_attrs))\n",
    "\n",
    "            \n",
    "            _cls_costs.append(_costs[_selected])\n",
    "        _cls_costs = np.array(_cls_costs)\n",
    "\n",
    "        return _cls_attrs, _cls_costs\n",
    "    \n",
    "    def select_nod_cluster(self, cls, _costs, _pns_attrs, MAX_DEFAULT_NODE_DELAY, choice, _vnf_obs = None):\n",
    "        _eligibles = [cls[i] for i in np.where(_costs[cls] < MAX_DEFAULT_NODE_DELAY)[0]]\n",
    "        if _vnf_obs :\n",
    "            final = []\n",
    "            for j in _eligibles :\n",
    "                if (_vnf_obs[0] <= _pns_attrs[j, 0]) and  (_vnf_obs[1] <= _pns_attrs[j, 1]):\n",
    "                    final.append(j)\n",
    "            _eligibles = final \n",
    "\n",
    "        if _eligibles: \n",
    "            if choice == \"Max_RAM\":\n",
    "                # We will take RAM because it's the most critical resource\n",
    "                _attrs_eligibles = _pns_attrs[_eligibles, :]\n",
    "                _selected = _eligibles[np.argmax(_attrs_eligibles[: ,1])]\n",
    "            elif choice == \"Min_DELAY\":\n",
    "                # Choose the nearest node as cluster representative \n",
    "                _selected = _eligibles[np.argmin(_costs[_eligibles])]\n",
    "\n",
    "        else:\n",
    "            _selected = random.choice(cls)\n",
    "        return _selected "
   ]
  },
  {
   "cell_type": "code",
   "execution_count": 1,
   "metadata": {},
   "outputs": [],
   "source": [
    "%load_ext autoreload\n",
    "%autoreload 2"
   ]
  },
  {
   "cell_type": "code",
   "execution_count": 7,
   "metadata": {},
   "outputs": [],
   "source": [
    "#Parameteres to store in a config File :\n",
    "\n",
    "DEFAULT_PN = {\n",
    "    \"Edge\" : {\n",
    "        \"CPU\" : [7],\n",
    "        \"RAM\" : [8192],\n",
    "    },\n",
    "    \"Transport\" : {\n",
    "        \"CPU\" : [7],\n",
    "        \"RAM\" : [8192],\n",
    "    },\n",
    "    \"Core\" : {\n",
    "        \"CPU\" : [7],\n",
    "        \"RAM\" : [8192],\n",
    "    }\n",
    "}\n",
    "\n",
    "DEFAULT_PL = {\n",
    "    \"Edge\" : {\n",
    "        \"BW\" : [50],\n",
    "        \"Delay\" : [3],\n",
    "    },\n",
    "    \"Transport\" : {\n",
    "        \"BW\" : [50],\n",
    "        \"Delay\" : [2.5],\n",
    "    },\n",
    "    \"Core\" : {\n",
    "        \"BW\" :  [50],\n",
    "        \"Delay\" : [2],\n",
    "    }\n",
    "}\n",
    "\n",
    "DEFAULT_VNF = {\n",
    "    \"CPU\" : [0.05, 1],\n",
    "    \"RAM\" : [64, 1024],\n",
    "}\n",
    "\n",
    "DEFAULT_VL = {\n",
    "    \"BW\" : [2,3,4],\n",
    "    \"Delay\" : [2,5]\n",
    "}\n",
    "\n"
   ]
  },
  {
   "cell_type": "code",
   "execution_count": 4,
   "metadata": {},
   "outputs": [],
   "source": [
    "dispo = {\n",
    " 'cluster-c1': {'RAM': 2861.81640625, 'CPU': 2.2299888390269187},\n",
    " 'cluster-c2': {'RAM': 2920.70703125, 'CPU': 2.378481268636885},\n",
    " 'cluster-c3': {'RAM': 4916.9765625, 'CPU': 2.7394677932832834},\n",
    " 'cluster-c4': {'RAM': 4339.5703125, 'CPU': 2.7404578535238193},\n",
    " 'cluster-c5': {'RAM': 4327.640625, 'CPU': 2.7412230010117176},\n",
    " 'cluster-c6': {'RAM': 4335.30859375, 'CPU': 2.7307449007273683},\n",
    " 'cluster-c7': {'RAM': 4356.19921875, 'CPU': 2.7263802633370795},\n",
    " 'cluster-c8': {'RAM': 4370.375, 'CPU': 2.7438676358997673},\n",
    " 'cluster-c9': {'RAM': 4347.39453125, 'CPU': 2.740566194880344},\n",
    " 'cluster-c10': {'RAM': 4347.39453125, 'CPU': 2.740566194880344},\n",
    " 'cluster-c11': {'RAM': 4347.39453125, 'CPU': 2.740566194880344}\n",
    " }"
   ]
  },
  {
   "cell_type": "code",
   "execution_count": 5,
   "metadata": {},
   "outputs": [],
   "source": [
    "def matrix_to_sparse_adjacency(matrix):\n",
    "    sparse_adjacency = []\n",
    "    \n",
    "    for i in range(len(matrix)):\n",
    "        for j in range(i + 1, len(matrix[i])):\n",
    "            if matrix[i][j] != 0:\n",
    "                sparse_adjacency.append([i,j])\n",
    "    \n",
    "    return sparse_adjacency"
   ]
  },
  {
   "cell_type": "code",
   "execution_count": 13,
   "metadata": {},
   "outputs": [],
   "source": [
    "def define_topology():\n",
    "    adj_list = [\n",
    "    [1,2],\n",
    "    [3],\n",
    "    [3,4,6],\n",
    "    [6,7],\n",
    "    [5],\n",
    "    [6],\n",
    "    [7],\n",
    "    [8,10]\n",
    "    ,[9]\n",
    "    ,[10],\n",
    "      [] ]\n",
    "\n",
    "    num_nodes = len(adj_list)\n",
    "    adj_matrix = np.zeros((num_nodes, num_nodes), dtype=int)\n",
    "\n",
    "    for node, neighbors in enumerate(adj_list):\n",
    "        for neighbor in neighbors:\n",
    "            adj_matrix[node, neighbor] = 1\n",
    "            adj_matrix[neighbor, node ] = 1\n",
    "\n",
    "    nsparse_adj_list = matrix_to_sparse_adjacency(adj_matrix)\n",
    "\n",
    "    nodes_type = [1, 0, 0, 2, 1, 0, 2, 2, 0, 1, 0]\n",
    "    edges_clusters = {  0 : [0, 4, 9] }\n",
    "    _adj_attrs = np.zeros((num_nodes, num_nodes, 2))\n",
    "    _adj_attrs[:, :, 0] = 100\n",
    "    _PLS = {}\n",
    "    for j in range(len(nsparse_adj_list)):\n",
    "        src , dist = nsparse_adj_list[j]\n",
    "        _type = None \n",
    "        if (nodes_type[src] == 0 and nodes_type[dist] == 1) or (nodes_type[src] == 1 and nodes_type[dist] == 0):\n",
    "            _type = \"Edge\"\n",
    "        elif (nodes_type[src] == 0 and nodes_type[dist] == 0) or (nodes_type[src] == 0 and nodes_type[dist] == 2) or (nodes_type[src] == 2 and nodes_type[dist] == 0): \n",
    "            _type = \"Transport\"\n",
    "        elif (nodes_type[src] == 2 and nodes_type[dist] == 2) : \n",
    "            _type = \"Core\"\n",
    "\n",
    "        _adj_attrs[src, dist, 1] = random.choice(DEFAULT_PL[_type][\"Delay\"])\n",
    "        _adj_attrs[dist, src, 1] = random.choice(DEFAULT_PL[_type][\"Delay\"])\n",
    "    return adj_matrix, nsparse_adj_list, _adj_attrs"
   ]
  },
  {
   "cell_type": "code",
   "execution_count": 14,
   "metadata": {},
   "outputs": [],
   "source": [
    "adj_matrix, nsparse_adj_list, _adj_attrs  = define_topology()"
   ]
  },
  {
   "cell_type": "code",
   "execution_count": 15,
   "metadata": {},
   "outputs": [],
   "source": [
    "\n",
    "MAX_DEFAULT_NODE_DELAY = 20.0 #The Fixed max used on training\n",
    "\n",
    "_domain = Domain(0, \"0\", adj_matrix, nsparse_adj_list, None, None, _adj_attrs = _adj_attrs,\n",
    "    _deployed = True)\n",
    "\n",
    "_results = _domain.dijkstra(0, mask_delay = True, \n",
    "    MAX_DEFAULT_NODE_DELAY = MAX_DEFAULT_NODE_DELAY,\n",
    "    required_delay = 15,\n",
    "    )\n",
    "\n",
    "_costs = _results[0]"
   ]
  },
  {
   "cell_type": "code",
   "execution_count": 16,
   "metadata": {},
   "outputs": [],
   "source": [
    "AG = AugmentedGraph(4)"
   ]
  },
  {
   "cell_type": "code",
   "execution_count": 28,
   "metadata": {},
   "outputs": [],
   "source": [
    "_infra_attributes = [[2.777315411714415, 4383.76953125], [2.8021277875053627, 4489.11328125], [2.8052183805560613, 4492.3515625], [2.8049489519275066, 4503.7265625], [2.8009662854498765, 4455.48828125], [2.81397064753907, 4508.56640625], [2.8044122566358083, 4508.578125], [2.7967584759764166, 4485.734375], [2.8129406418348912, 4478.32421875], [2.7919979551451166, 4488.05078125], [2.8819404255626733, 4497.85546875]]"
   ]
  },
  {
   "cell_type": "code",
   "execution_count": 29,
   "metadata": {},
   "outputs": [],
   "source": [
    "_cls_attrs, _cls_costs = AG.get_augmented_graph(_adj_attrs = _adj_attrs[:,:,1], _pns_attrs = np.array(_infra_attributes), _costs= _costs, MAX_DEFAULT_NODE_DELAY=  MAX_DEFAULT_NODE_DELAY, choice = \"Min_DELAY\", keep_clusters= True)"
   ]
  },
  {
   "cell_type": "code",
   "execution_count": 39,
   "metadata": {},
   "outputs": [
    {
     "data": {
      "text/plain": [
       "[[2.8009662854498765, 4455.48828125, 6.0],\n",
       " [2.8049489519275066, 4503.7265625, 5.5],\n",
       " [2.8129406418348912, 4478.32421875, 10.0],\n",
       " [2.777315411714415, 4383.76953125, 0.0]]"
      ]
     },
     "execution_count": 39,
     "metadata": {},
     "output_type": "execute_result"
    }
   ],
   "source": [
    "np.hstack((_cls_attrs,  _cls_costs.reshape(-1, 1))).tolist()"
   ]
  },
  {
   "cell_type": "code",
   "execution_count": 40,
   "metadata": {},
   "outputs": [
    {
     "ename": "NameError",
     "evalue": "name 'obs' is not defined",
     "output_type": "error",
     "traceback": [
      "\u001b[0;31m---------------------------------------------------------------------------\u001b[0m",
      "\u001b[0;31mNameError\u001b[0m                                 Traceback (most recent call last)",
      "Cell \u001b[0;32mIn[40], line 1\u001b[0m\n\u001b[0;32m----> 1\u001b[0m AG\u001b[39m.\u001b[39mget_final_action(\u001b[39m0\u001b[39m, MAX_DEFAULT_NODE_DELAY\u001b[39m=\u001b[39m MAX_DEFAULT_NODE_DELAY, choice \u001b[39m=\u001b[39m \u001b[39m\"\u001b[39m\u001b[39mMax_RAM\u001b[39m\u001b[39m\"\u001b[39m, _vnf_obs \u001b[39m=\u001b[39m obs[\u001b[39m\"\u001b[39m\u001b[39mVnf\u001b[39m\u001b[39m\"\u001b[39m])\n",
      "\u001b[0;31mNameError\u001b[0m: name 'obs' is not defined"
     ]
    }
   ],
   "source": [
    "AG.get_final_action(0, MAX_DEFAULT_NODE_DELAY= MAX_DEFAULT_NODE_DELAY, choice = \"Max_RAM\", _vnf_obs = obs[\"Vnf\"])"
   ]
  },
  {
   "cell_type": "code",
   "execution_count": 32,
   "metadata": {},
   "outputs": [
    {
     "data": {
      "text/plain": [
       "array([[ 0. ],\n",
       "       [ 3. ],\n",
       "       [ 3. ],\n",
       "       [ 5.5],\n",
       "       [ 6. ],\n",
       "       [ 8. ],\n",
       "       [ 5.5],\n",
       "       [ 7.5],\n",
       "       [10. ],\n",
       "       [13. ],\n",
       "       [10. ]])"
      ]
     },
     "execution_count": 32,
     "metadata": {},
     "output_type": "execute_result"
    }
   ],
   "source": [
    "_costs.reshape(-1, 1)"
   ]
  }
 ],
 "metadata": {
  "kernelspec": {
   "display_name": "venv",
   "language": "python",
   "name": "python3"
  },
  "language_info": {
   "codemirror_mode": {
    "name": "ipython",
    "version": 3
   },
   "file_extension": ".py",
   "mimetype": "text/x-python",
   "name": "python",
   "nbconvert_exporter": "python",
   "pygments_lexer": "ipython3",
   "version": "3.10.6"
  },
  "orig_nbformat": 4
 },
 "nbformat": 4,
 "nbformat_minor": 2
}
